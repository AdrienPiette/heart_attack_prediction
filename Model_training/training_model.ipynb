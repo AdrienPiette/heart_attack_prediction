{
 "cells": [
  {
   "cell_type": "code",
   "execution_count": 24,
   "metadata": {},
   "outputs": [],
   "source": [
    "from sklearn.preprocessing import StandardScaler\n",
    "from sklearn.preprocessing import MinMaxScaler\n",
    "from sklearn.preprocessing import LabelEncoder\n",
    "import pandas as pd\n",
    "import numpy as np\n",
    "import pickle\n",
    "from sklearn.linear_model import LogisticRegression\n",
    "from sklearn.neighbors import KNeighborsClassifier\n",
    "from sklearn.svm import SVC\n",
    "from sklearn.ensemble import RandomForestClassifier\n",
    "from sklearn.naive_bayes import GaussianNB\n",
    "from sklearn.neural_network import MLPClassifier\n",
    "from sklearn.metrics import accuracy_score, classification_report\n",
    "from sklearn.preprocessing import StandardScaler\n",
    "from sklearn.model_selection import train_test_split"
   ]
  },
  {
   "cell_type": "code",
   "execution_count": 25,
   "metadata": {},
   "outputs": [],
   "source": [
    "data = pd.read_csv(r'C:\\Users\\pieta\\OneDrive\\Bureau\\Heart_attack_model\\heart_attack_prediction\\Data\\heart_cleaned.csv')"
   ]
  },
  {
   "cell_type": "code",
   "execution_count": 26,
   "metadata": {},
   "outputs": [],
   "source": [
    "# Separate features (X) and target (y)\n",
    "X = data.drop('HeartDisease', axis=1)\n",
    "y = data['HeartDisease']\n",
    "\n"
   ]
  },
  {
   "cell_type": "code",
   "execution_count": 27,
   "metadata": {},
   "outputs": [],
   "source": [
    "# Instantiate the label encoder\n",
    "labelencoder = LabelEncoder()\n",
    "\n",
    "# Function to label-encode categorical columns and save encoders\n",
    "def label_encode_and_save(X, save_path=\"encoders.pkl\"):\n",
    "    encoders = {}  # Dictionary to save encoders for each column\n",
    "    for col in X.columns:\n",
    "        if X[col].dtype == 'object':  # Encode only categorical columns\n",
    "            encoder = LabelEncoder()\n",
    "            X[col] = encoder.fit_transform(X[col])\n",
    "            encoders[col] = encoder  # Save the encoder for this column\n",
    "\n",
    "    # Save all encoders to a .pkl file\n",
    "    with open(save_path, 'wb') as f:\n",
    "        pickle.dump(encoders, f)\n",
    "    \n",
    "    return X\n",
    "\n",
    "# Apply the label encoding and save the encoders\n",
    "data_encoded = label_encode_and_save(X)"
   ]
  },
  {
   "cell_type": "code",
   "execution_count": 28,
   "metadata": {},
   "outputs": [],
   "source": [
    "# Train-test split\n",
    "X_train, X_test, y_train, y_test = train_test_split(X, y, test_size=0.2, random_state=42)"
   ]
  },
  {
   "cell_type": "code",
   "execution_count": 29,
   "metadata": {},
   "outputs": [
    {
     "name": "stdout",
     "output_type": "stream",
     "text": [
      "     Age  Sex  ChestPainType  RestingBP  Cholesterol  FastingBS  RestingECG  \\\n",
      "0     40    1              1        140          289          0           1   \n",
      "1     49    0              2        160          180          0           1   \n",
      "2     37    1              1        130          283          0           2   \n",
      "3     48    0              0        138          214          0           1   \n",
      "4     54    1              2        150          195          0           1   \n",
      "..   ...  ...            ...        ...          ...        ...         ...   \n",
      "913   45    1              3        110          264          0           1   \n",
      "914   68    1              0        144          193          1           1   \n",
      "915   57    1              0        130          131          0           1   \n",
      "916   57    0              1        130          236          0           0   \n",
      "917   38    1              2        138          175          0           1   \n",
      "\n",
      "     MaxHR  ExerciseAngina  Oldpeak  ST_Slope  \n",
      "0      172               0      0.0         2  \n",
      "1      156               0      1.0         1  \n",
      "2       98               0      0.0         2  \n",
      "3      108               1      1.5         1  \n",
      "4      122               0      0.0         2  \n",
      "..     ...             ...      ...       ...  \n",
      "913    132               0      1.2         1  \n",
      "914    141               0      3.4         1  \n",
      "915    115               1      1.2         1  \n",
      "916    174               0      0.0         1  \n",
      "917    173               0      0.0         2  \n",
      "\n",
      "[918 rows x 11 columns]\n"
     ]
    }
   ],
   "source": [
    "print(X)"
   ]
  },
  {
   "cell_type": "code",
   "execution_count": null,
   "metadata": {},
   "outputs": [
    {
     "name": "stdout",
     "output_type": "stream",
     "text": [
      "Checking the target variable type...\n",
      "795    0\n",
      "25     0\n",
      "84     1\n",
      "10     0\n",
      "344    1\n",
      "254    1\n",
      "398    1\n",
      "244    1\n",
      "621    1\n",
      "118    0\n",
      "Name: HeartDisease, dtype: int64\n",
      "The target variable is already discrete.\n",
      "\n",
      "Training Logistic Regression...\n",
      "Logistic Regression: Accuracy = 0.8478\n",
      "              precision    recall  f1-score   support\n",
      "\n",
      "           0       0.78      0.88      0.83        77\n",
      "           1       0.91      0.82      0.86       107\n",
      "\n",
      "    accuracy                           0.85       184\n",
      "   macro avg       0.84      0.85      0.85       184\n",
      "weighted avg       0.85      0.85      0.85       184\n",
      "\n",
      "\n",
      "Training KNN...\n",
      "KNN: Accuracy = 0.8478\n",
      "              precision    recall  f1-score   support\n",
      "\n",
      "           0       0.78      0.88      0.83        77\n",
      "           1       0.91      0.82      0.86       107\n",
      "\n",
      "    accuracy                           0.85       184\n",
      "   macro avg       0.84      0.85      0.85       184\n",
      "weighted avg       0.85      0.85      0.85       184\n",
      "\n",
      "\n",
      "Training SVM...\n",
      "SVM: Accuracy = 0.8641\n",
      "              precision    recall  f1-score   support\n",
      "\n",
      "           0       0.82      0.86      0.84        77\n",
      "           1       0.89      0.87      0.88       107\n",
      "\n",
      "    accuracy                           0.86       184\n",
      "   macro avg       0.86      0.86      0.86       184\n",
      "weighted avg       0.87      0.86      0.86       184\n",
      "\n",
      "\n",
      "Training Random Forest...\n",
      "Random Forest: Accuracy = 0.8804\n",
      "              precision    recall  f1-score   support\n",
      "\n",
      "           0       0.86      0.86      0.86        77\n",
      "           1       0.90      0.90      0.90       107\n",
      "\n",
      "    accuracy                           0.88       184\n",
      "   macro avg       0.88      0.88      0.88       184\n",
      "weighted avg       0.88      0.88      0.88       184\n",
      "\n",
      "\n",
      "Training Naive Bayes...\n",
      "Naive Bayes: Accuracy = 0.8424\n",
      "              precision    recall  f1-score   support\n",
      "\n",
      "           0       0.79      0.84      0.82        77\n",
      "           1       0.88      0.84      0.86       107\n",
      "\n",
      "    accuracy                           0.84       184\n",
      "   macro avg       0.84      0.84      0.84       184\n",
      "weighted avg       0.84      0.84      0.84       184\n",
      "\n",
      "\n",
      "Training Neural Network...\n",
      "Neural Network: Accuracy = 0.8967\n",
      "              precision    recall  f1-score   support\n",
      "\n",
      "           0       0.86      0.90      0.88        77\n",
      "           1       0.92      0.90      0.91       107\n",
      "\n",
      "    accuracy                           0.90       184\n",
      "   macro avg       0.89      0.90      0.89       184\n",
      "weighted avg       0.90      0.90      0.90       184\n",
      "\n",
      "\n",
      "Summary of Results:\n",
      "                 Model  Accuracy\n",
      "0  Logistic Regression  0.847826\n",
      "1                  KNN  0.847826\n",
      "2                  SVM  0.864130\n",
      "3        Random Forest  0.880435\n",
      "4          Naive Bayes  0.842391\n",
      "5       Neural Network  0.896739\n"
     ]
    },
    {
     "name": "stderr",
     "output_type": "stream",
     "text": [
      "C:\\Users\\pieta\\AppData\\Local\\Packages\\PythonSoftwareFoundation.Python.3.12_qbz5n2kfra8p0\\LocalCache\\local-packages\\Python312\\site-packages\\sklearn\\neural_network\\_multilayer_perceptron.py:690: ConvergenceWarning: Stochastic Optimizer: Maximum iterations (1000) reached and the optimization hasn't converged yet.\n",
      "  warnings.warn(\n"
     ]
    },
    {
     "ename": "AttributeError",
     "evalue": "'numpy.ndarray' object has no attribute 'columns'",
     "output_type": "error",
     "traceback": [
      "\u001b[1;31m---------------------------------------------------------------------------\u001b[0m",
      "\u001b[1;31mAttributeError\u001b[0m                            Traceback (most recent call last)",
      "Cell \u001b[1;32mIn[33], line 56\u001b[0m\n\u001b[0;32m     53\u001b[0m \u001b[38;5;28mprint\u001b[39m(\u001b[38;5;124m\"\u001b[39m\u001b[38;5;130;01m\\n\u001b[39;00m\u001b[38;5;124mSummary of Results:\u001b[39m\u001b[38;5;124m\"\u001b[39m)\n\u001b[0;32m     54\u001b[0m \u001b[38;5;28mprint\u001b[39m(results_df)\n\u001b[1;32m---> 56\u001b[0m \u001b[43mX_train_scaled\u001b[49m\u001b[38;5;241;43m.\u001b[39;49m\u001b[43mcolumns\u001b[49m\n",
      "\u001b[1;31mAttributeError\u001b[0m: 'numpy.ndarray' object has no attribute 'columns'"
     ]
    }
   ],
   "source": [
    "from sklearn.metrics import accuracy_score, classification_report\n",
    "from sklearn.preprocessing import StandardScaler\n",
    "import pandas as pd\n",
    "import numpy as np\n",
    "\n",
    "# Vérifiez si la cible est continue\n",
    "print(\"Checking the target variable type...\")\n",
    "print(y_train[:10])  # Exemple de valeurs cibles\n",
    "\n",
    "if np.issubdtype(y_train.dtype, np.number) and not np.array_equal(y_train, y_train.astype(int)):\n",
    "    print(\"The target variable is continuous. Discretizing into classes...\")\n",
    "    \n",
    "    # Discrétisation en classes (par exemple, 3 classes)\n",
    "    y_train_discrete = pd.cut(y_train, bins=3, labels=[0, 1, 2])\n",
    "    y_test_discrete = pd.cut(y_test, bins=3, labels=[0, 1, 2])\n",
    "else:\n",
    "    print(\"The target variable is already discrete.\")\n",
    "    y_train_discrete = y_train\n",
    "    y_test_discrete = y_test\n",
    "\n",
    "# Standardisation des données\n",
    "scaler = StandardScaler()\n",
    "X_train_scaled = scaler.fit_transform(X_train)\n",
    "X_test_scaled = scaler.transform(X_test)\n",
    "\n",
    "# Définition des modèles\n",
    "models = {\n",
    "    'Logistic Regression': LogisticRegression(max_iter=1000),\n",
    "    'KNN': KNeighborsClassifier(),\n",
    "    'SVM': SVC(probability=True),\n",
    "    'Random Forest': RandomForestClassifier(random_state=42),\n",
    "    'Naive Bayes': GaussianNB(),\n",
    "    'Neural Network': MLPClassifier(max_iter=1000, random_state=42)\n",
    "}\n",
    "\n",
    "# Entraînement et évaluation\n",
    "results = []\n",
    "for model_name, model in models.items():\n",
    "    print(f\"\\nTraining {model_name}...\")\n",
    "    try:\n",
    "        model.fit(X_train_scaled, y_train_discrete)  # Entraîner\n",
    "        y_pred = model.predict(X_test_scaled)  # Prédire\n",
    "        acc = accuracy_score(y_test_discrete, y_pred)  # Calculer l'accuracy\n",
    "        results.append({'Model': model_name, 'Accuracy': acc})\n",
    "        \n",
    "        print(f\"{model_name}: Accuracy = {acc:.4f}\")\n",
    "        print(classification_report(y_test_discrete, y_pred))\n",
    "    except Exception as e:\n",
    "        print(f\"Error training {model_name}: {e}\")\n",
    "\n",
    "# Résultats sous forme de tableau\n",
    "results_df = pd.DataFrame(results)\n",
    "print(\"\\nSummary of Results:\")\n",
    "print(results_df)\n",
    "\n",
    "\n"
   ]
  },
  {
   "cell_type": "code",
   "execution_count": 31,
   "metadata": {},
   "outputs": [
    {
     "data": {
      "image/png": "[encoded data removed]",
      "text/plain": [
       "<Figure size 640x480 with 1 Axes>"
      ]
     },
     "metadata": {},
     "output_type": "display_data"
    }
   ],
   "source": [
    "import matplotlib.pyplot as plt\n",
    "\n",
    "# Plot results\n",
    "plt.bar(results_df['Model'], results_df['Accuracy'])\n",
    "plt.xticks(rotation=45)\n",
    "plt.ylabel(\"Accuracy\")\n",
    "plt.title(\"Model Performance Comparison\")\n",
    "plt.show()"
   ]
  },
  {
   "cell_type": "code",
   "execution_count": 32,
   "metadata": {},
   "outputs": [
    {
     "name": "stdout",
     "output_type": "stream",
     "text": [
      "Best model 'Neural Network' saved to 'best_model.pkl'\n"
     ]
    }
   ],
   "source": [
    "# save best model to pickel file\n",
    "\n",
    "# Choose the best model\n",
    "\n",
    "best_model_name = results_df.loc[results_df['Accuracy'].idxmax(), 'Model']\n",
    "best_model = models[best_model_name]\n",
    "\n",
    "# Save the best model to a .pkl file\n",
    "with open('best_model.pkl', 'wb') as f:\n",
    "    pickle.dump(best_model, f)\n",
    "\n",
    "print(f\"Best model '{best_model_name}' saved to 'best_model.pkl'\")"
   ]
  }
 ],
 "metadata": {
  "kernelspec": {
   "display_name": "Python 3",
   "language": "python",
   "name": "python3"
  },
  "language_info": {
   "codemirror_mode": {
    "name": "ipython",
    "version": 3
   },
   "file_extension": ".py",
   "mimetype": "text/x-python",
   "name": "python",
   "nbconvert_exporter": "python",
   "pygments_lexer": "ipython3",
   "version": "3.12.7"
  }
 },
 "nbformat": 4,
 "nbformat_minor": 2
}
